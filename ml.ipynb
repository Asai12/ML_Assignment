{
 "cells": [
  {
   "cell_type": "code",
   "execution_count": 1,
   "id": "664a6f58",
   "metadata": {},
   "outputs": [
    {
     "name": "stdout",
     "output_type": "stream",
     "text": [
      "Sorted ages:  [19, 19, 20, 22, 24, 24, 24, 25, 25, 26]\n",
      "Minimum age:  19\n",
      "Maximum age:  26\n",
      "updated list:  [19, 19, 20, 22, 24, 24, 24, 25, 25, 26]\n",
      "Median:  24\n",
      "Average:  22.8\n",
      "range= 7\n"
     ]
    }
   ],
   "source": [
    "#Question 1\n",
    "ages = [19, 22, 19, 24, 20, 25, 26, 24, 25, 24]\n",
    "#sort() function to sort the list \n",
    "ages.sort()\n",
    "print(\"Sorted ages: \", ages)\n",
    "# min(),max() to find minimum and maximum values\n",
    "print(\"Minimum age: \", min(ages))\n",
    "print(\"Maximum age: \", max(ages))\n",
    "# insert(position, value) - inserts the value in list at specified position\n",
    "# append(value) - insert the value at the end of the list\n",
    "print(\"updated list: \", ages)\n",
    "\n",
    "ages_length = len(ages)\n",
    "if (ages_length/2 != 0):\n",
    "     print('Median: ', ages[int(ages_length/2.0)])\n",
    "else:\n",
    "     print('Median: ', ages[(ages_length-1)/2]+ages[(ages_length+1)/2])\n",
    "print('Average: ', sum(ages)/ages_length)\n",
    "range=max(ages)-min(ages)\n",
    "print(\"range=\",range)"
   ]
  },
  {
   "cell_type": "code",
   "execution_count": 2,
   "id": "24dc8669",
   "metadata": {},
   "outputs": [
    {
     "name": "stdout",
     "output_type": "stream",
     "text": [
      "{}\n",
      "{'name': 'doggy', 'color': 'black', 'breed': 'german', 'legs': 2, 'age': 5}\n",
      "{'first_name': 'prakash', 'last_name': 'andem', 'gender': 'male', 'age': 22, 'marital status': 'single', 'skills': ['JavaScript', 'r', 'Python'], 'country': 'USA', 'city': 'overland park', 'address': '2044W 138th ter'}\n",
      "length : 9\n",
      "['JavaScript', 'r', 'Python']\n",
      "<class 'list'>\n",
      "{'first_name': 'prakash', 'last_name': 'andem', 'gender': 'male', 'age': 22, 'marital status': 'single', 'skills': ['JavaScript', 'r', 'Python', 'reading'], 'country': 'USA', 'city': 'overland park', 'address': '2044W 138th ter'}\n",
      "student_keys= dict_keys(['first_name', 'last_name', 'gender', 'age', 'marital status', 'skills', 'country', 'city', 'address'])\n",
      "student_values= dict_values(['prakash', 'andem', 'male', 22, 'single', ['JavaScript', 'r', 'Python', 'reading'], 'USA', 'overland park', '2044W 138th ter'])\n"
     ]
    }
   ],
   "source": [
    "#Question 2\n",
    "dog={}\n",
    "print(dog)\n",
    "dog={'name':'doggy','color':'black','breed':'german','legs':2,'age':5}\n",
    "print(dog)\n",
    "student={'first_name':'prakash','last_name':'andem', 'gender':'male', 'age':22,'marital status':'single',\n",
    "'skills':['JavaScript', 'r','Python'],'country':'USA', 'city':'overland park', 'address':'2044W 138th ter'}\n",
    "print(student)\n",
    "print(\"length :\",len(student))\n",
    "print(student['skills'])\n",
    "print(type(student['skills']))\n",
    "student['skills'].append('reading')\n",
    "print(student)\n",
    "student_keys=student.keys()\n",
    "print(\"student_keys=\", student_keys)\n",
    "student_values=student.values()\n",
    "print(\"student_values=\",student_values)"
   ]
  },
  {
   "cell_type": "code",
   "execution_count": 3,
   "id": "1eb9fb74",
   "metadata": {},
   "outputs": [
    {
     "name": "stdout",
     "output_type": "stream",
     "text": [
      "brothers = ('vijay', 'shashu', 'raj')\n",
      "sisters= ('anuja', 'minny')\n",
      "sibilings= ('vijay', 'shashu', 'raj', 'anuja', 'minny')\n",
      "length= 5\n",
      "lst_sibilings= ['vijay', 'shashu', 'raj', 'anuja', 'minny']\n",
      "family_members= ['vijay', 'shashu', 'raj', 'anuja', 'minny', 'raju', 'rajitha']\n"
     ]
    }
   ],
   "source": [
    "#Question 3\n",
    "brothers=('vijay','shashu','raj')\n",
    "print(\"brothers =\",brothers)\n",
    "sisters=('anuja','minny')\n",
    "print(\"sisters=\",sisters)\n",
    "sibilings = brothers+sisters\n",
    "print(\"sibilings=\",sibilings)\n",
    "length=len(sibilings)\n",
    "print(\"length=\",length)\n",
    "lst_sibilings = list(sibilings)\n",
    "print(\"lst_sibilings=\",lst_sibilings)\n",
    "parents=['raju','rajitha']\n",
    "family_members=lst_sibilings + parents\n",
    "print(\"family_members=\",family_members)"
   ]
  },
  {
   "cell_type": "code",
   "execution_count": 4,
   "id": "25bb9430",
   "metadata": {},
   "outputs": [
    {
     "name": "stdout",
     "output_type": "stream",
     "text": [
      "length of it_companies= 7\n",
      "{'Amazon', 'Microsoft', 'Oracle', 'Facebook', 'Apple', 'Google', 'IBM', 'Twitter'}\n",
      "{'Amazon', 'Facebook', 'Infosys', 'IBM', 'Wipro', 'Twitter', 'HCL ', 'Oracle', 'Apple', 'Google', 'Microsoft'}\n",
      "{'Amazon', 'Infosys', 'IBM', 'Wipro', 'Twitter', 'HCL ', 'Oracle', 'Apple', 'Google', 'Microsoft'}\n",
      "join {19, 20, 22, 24, 25, 26, 27, 28}\n",
      "intersection {19, 20, 22, 24, 25, 26}\n",
      "subset= True\n",
      "disjoint_sets= False\n",
      "joina&b {19, 20, 22, 24, 25, 26, 27, 28}\n",
      "joinb&a {19, 20, 22, 24, 25, 26, 27, 28}\n",
      "symmetric_difference {27, 28}\n",
      "age of list is  8\n",
      "age_set {19, 22, 24, 25, 26}\n",
      "length_set 5\n",
      "false\n"
     ]
    }
   ],
   "source": [
    "#Question 4\n",
    "it_companies = {'Facebook', 'Google', 'Microsoft', 'Apple', 'IBM', 'Oracle', 'Amazon'}\n",
    "A = {19, 22, 24, 20, 25, 26}\n",
    "B = {19, 22, 20, 25, 26, 24, 28, 27}\n",
    "age = [22, 19, 24, 25, 26, 24, 25, 24]\n",
    "print(\"length of it_companies=\",len(it_companies))\n",
    "it_companies.add('Twitter')\n",
    "print(it_companies)\n",
    "it_companies.update(['HCL ','Infosys','Wipro'])\n",
    "print(it_companies)\n",
    "it_companies.remove('Facebook')\n",
    "print(it_companies)\n",
    "join=A.union(B)\n",
    "print(\"join\",join)\n",
    "intersection=A.intersection(B)\n",
    "print(\"intersection\",intersection)\n",
    "print(\"subset=\",A.issubset(B))\n",
    "print(\"disjoint_sets=\",A.isdisjoint(B))\n",
    "join=A.union(B)\n",
    "print(\"joina&b\",join)\n",
    "join=B.union(A)\n",
    "print(\"joinb&a\",join)\n",
    "symmetric_difference=A.symmetric_difference(B)\n",
    "print(\"symmetric_difference\",symmetric_difference)\n",
    "del(A)\n",
    "del(B)\n",
    "length_age=len(age)\n",
    "print(\"age of list is \",length_age)\n",
    "age_set=set(age)\n",
    "print(\"age_set\",age_set)\n",
    "length_set=len(age_set)\n",
    "print(\"length_set\",length_set)\n",
    "if length_age==length_set :\n",
    "    {\n",
    "        print(\"true\")\n",
    "    }\n",
    "else:\n",
    "    print(\"false\")\n",
    "\n"
   ]
  },
  {
   "cell_type": "code",
   "execution_count": 5,
   "id": "ef501471",
   "metadata": {},
   "outputs": [
    {
     "name": "stdout",
     "output_type": "stream",
     "text": [
      "area = 2826.0\n",
      "circumference= 188.88\n",
      "Enter your value of radius: 12\n",
      "radius = 12\n",
      "area= 452.15999999999997\n"
     ]
    }
   ],
   "source": [
    "#Question 5\n",
    "r=30\n",
    "area = 3.14*r*r\n",
    "print(\"area =\",area)\n",
    "circumference =2*3.148*r\n",
    "print(\"circumference=\", circumference);\n",
    "radius = int(input(\"Enter your value of radius: \"))\n",
    "print(\"radius =\",radius)\n",
    "area=3.14*radius*radius\n",
    "print(\"area=\",area)"
   ]
  },
  {
   "cell_type": "code",
   "execution_count": 6,
   "id": "17e23ac6",
   "metadata": {},
   "outputs": [
    {
     "name": "stdout",
     "output_type": "stream",
     "text": [
      "I am a teacher and I love to inspire and teach people\n",
      "Number of Unique words:  17 {'a', 'e', 'r', 'n', 'l', 'd', 's', 'm', 'v', 'c', 'o', 't', 'h', 'p', 'i', ' ', 'I'}\n"
     ]
    }
   ],
   "source": [
    "#Question 6\n",
    "print(\"I am a teacher and I love to inspire and teach people\")\n",
    "set_words = set((\"I am a teacher and I love to inspire and teach people\"))\n",
    "print(\"Number of Unique words: \",len(set_words), set_words)"
   ]
  },
  {
   "cell_type": "code",
   "execution_count": 7,
   "id": "e10fa53a",
   "metadata": {},
   "outputs": [
    {
     "name": "stdout",
     "output_type": "stream",
     "text": [
      "Name \t Age \tCountry City\n",
      "Asabench 250 \tFinland Helsinki\n"
     ]
    }
   ],
   "source": [
    "#Question 7\n",
    "text = \"Name \\t Age \\tCountry City\\nAsabench 250 \\tFinland Helsinki\"\n",
    "print(text)"
   ]
  },
  {
   "cell_type": "code",
   "execution_count": 8,
   "id": "4cfbd2a3",
   "metadata": {},
   "outputs": [
    {
     "name": "stdout",
     "output_type": "stream",
     "text": [
      "The area of a circle with radius 10 is 314 m\n"
     ]
    }
   ],
   "source": [
    "#Question 8\n",
    "radius = 10\n",
    "area = 3.14 * radius ** 2\n",
    "print(\"The area of a circle with radius\",radius,\"is %.0f\" %area, \"m\")"
   ]
  },
  {
   "cell_type": "code",
   "execution_count": 1,
   "id": "8035146b",
   "metadata": {},
   "outputs": [
    {
     "name": "stdout",
     "output_type": "stream",
     "text": [
      "Enter number of students: 4\n",
      "Enter weight of 1 student in lbs:150\n",
      "Enter weight of 2 student in lbs:130\n",
      "Enter weight of 3 student in lbs:23\n",
      "Enter weight of 4 student in lbs:57\n",
      "weight of students in lbs:  [150, 130, 23, 57]\n",
      "weight of students in kgs:  [68.04, 58.97, 10.43, 25.85]\n"
     ]
    }
   ],
   "source": [
    "#Question 9\n",
    "number_of_students = int(input(\"Enter number of students: \"))\n",
    "weight_of_students_lbs = list() \n",
    "weight_of_students_kgs = list() \n",
    "for i in range(number_of_students):\n",
    "    weight_lb = int(input(\"Enter weight of {} student in lbs:\".format(i+1)))\n",
    "    weight_of_students_lbs.insert(i, weight_lb)\n",
    "    #converting lbs to kg \n",
    "    weight_kg = float(\"%.2f\" %(weight_lb*0.453592))\n",
    "    weight_of_students_kgs.insert(i, weight_kg)\n",
    "print(\"weight of students in lbs: \",weight_of_students_lbs)\n",
    "print(\"weight of students in kgs: \",weight_of_students_kgs)"
   ]
  },
  {
   "cell_type": "code",
   "execution_count": 10,
   "id": "c8ca371b",
   "metadata": {},
   "outputs": [
    {
     "name": "stdout",
     "output_type": "stream",
     "text": [
      "Dataset with 8 points: \n",
      " [[ 1  0]\n",
      " [ 2  0]\n",
      " [ 3  0]\n",
      " [ 6  0]\n",
      " [ 6  0]\n",
      " [ 7  0]\n",
      " [10  0]\n",
      " [11  0]] \n",
      " Size:  8\n",
      "\n",
      "Class label for datasetX Y: [0 0 1 1 1 0 0 0]\n",
      "\n",
      "Training Data X:  [[ 2  0]\n",
      " [11  0]\n",
      " [ 6  0]\n",
      " [ 1  0]\n",
      " [ 7  0]\n",
      " [ 6  0]]\n",
      "\n",
      "Training Data  Y: [0 0 1 0 0 1]\n",
      "\n",
      "Predicted Classs labels for testing data Y: [0 0]\n",
      "\n",
      "Confusion Matrix\n",
      " [[1 0]\n",
      " [1 0]]\n",
      "\n",
      "Accuracy :  1\n",
      "Sensitivity :  0.0\n",
      "Specificity :  1.0\n"
     ]
    }
   ],
   "source": [
    "import numpy as nm\n",
    "import pandas as pd\n",
    "from sklearn.model_selection import train_test_split\n",
    "from sklearn.preprocessing import StandardScaler\n",
    "from sklearn.neighbors import KNeighborsClassifier\n",
    "from sklearn.metrics import confusion_matrix\n",
    "X= nm.array([[1,0],[2,0],[3,0],[6,0],[6,0],[7,0],[10,0],[11,0]])\n",
    "print(\"Dataset with 8 points: \\n\",X,\"\\n Size: \",len(X))\n",
    "y = nm.array([0,0,1,1,1,0,0,0])\n",
    "print(\"\\nClass label for datasetX Y:\",y)\n",
    "x_train, x_test, y_train, y_test= train_test_split(X, y, test_size=2, random_state=0)  \n",
    "print(\"\\nTraining Data X: \", x_train)\n",
    "print(\"\\nTraining Data  Y:\", y_train)\n",
    "\n",
    "stand_scalar= StandardScaler()\n",
    "x_train= stand_scalar.fit_transform(x_train)\n",
    "x_test= stand_scalar.transform(x_test)\n",
    "\n",
    "classifier= KNeighborsClassifier(n_neighbors=3)\n",
    "\n",
    "classifier.fit(x_train, y_train)\n",
    "\n",
    "y_pred= classifier.predict(x_test)\n",
    "print('\\nPredicted Classs labels for testing data Y:',y_pred)\n",
    "\n",
    "confusion_mat = confusion_matrix(y_test, y_pred)\n",
    "print(\"\\nConfusion Matrix\\n\",confusion_mat)\n",
    "\n",
    "total_value = sum(sum(confusion_mat))\n",
    "\n",
    "accuracy=(confusion_mat[0,0]+confusion_matrix_result[1,1])\n",
    "print ('\\nAccuracy : ', accuracy)\n",
    "\n",
    "sensitivity = confusion_mat[1,1]/(confusion_mat[1,0]+confusion_mat[1,1])\n",
    "print(\"Sensitivity : \", sensitivity )\n",
    "                                            \n",
    "specificity = confusion_mat[0,0]/(confusion_mat[0,0]+confusion_mat[0,1])\n",
    "\n",
    "\n",
    "print(\"Specificity : \", specificity)"
   ]
  },
  {
   "cell_type": "code",
   "execution_count": null,
   "id": "e9901df9",
   "metadata": {},
   "outputs": [],
   "source": []
  }
 ],
 "metadata": {
  "kernelspec": {
   "display_name": "Python 3 (ipykernel)",
   "language": "python",
   "name": "python3"
  },
  "language_info": {
   "codemirror_mode": {
    "name": "ipython",
    "version": 3
   },
   "file_extension": ".py",
   "mimetype": "text/x-python",
   "name": "python",
   "nbconvert_exporter": "python",
   "pygments_lexer": "ipython3",
   "version": "3.9.12"
  }
 },
 "nbformat": 4,
 "nbformat_minor": 5
}
